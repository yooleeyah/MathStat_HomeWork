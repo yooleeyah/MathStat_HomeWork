{
 "cells": [
  {
   "cell_type": "code",
   "execution_count": 4,
   "id": "1f4f27b7",
   "metadata": {},
   "outputs": [],
   "source": [
    "# Задача 1. Известно, что генеральная совокупность распределена нормально со средним квадратическим отклонением, равным 16.\n",
    "# Найти доверительный интервал для оценки математического ожидания с надежностью 0.95,\n",
    "# если выборочная средняя M = 80, а объем выборки n = 256."
   ]
  },
  {
   "cell_type": "code",
   "execution_count": 15,
   "id": "0f691ee4",
   "metadata": {},
   "outputs": [],
   "source": [
    "import numpy as np"
   ]
  },
  {
   "cell_type": "code",
   "execution_count": 16,
   "id": "c9c340ad",
   "metadata": {},
   "outputs": [],
   "source": [
    "x = 80\n",
    "z = 1.96\n",
    "s = 16\n",
    "n = 256"
   ]
  },
  {
   "cell_type": "code",
   "execution_count": 18,
   "id": "f0ccd5ec",
   "metadata": {},
   "outputs": [
    {
     "data": {
      "text/plain": [
       "(78.04, 81.96)"
      ]
     },
     "execution_count": 18,
     "metadata": {},
     "output_type": "execute_result"
    }
   ],
   "source": [
    "a = x - z * (s/np.sqrt(n))\n",
    "b = x + z * (s/np.sqrt(n))\n",
    "a, b"
   ]
  },
  {
   "cell_type": "code",
   "execution_count": 19,
   "id": "aefe487b",
   "metadata": {},
   "outputs": [],
   "source": [
    "# Задача 2. В результате 10 независимых измерений некоторой величины X, выполненных с одинаковой точностью,\n",
    "# получены опытные данные: 6.9, 6.1, 6.2, 6.8, 7.5, 6.3, 6.4, 6.9, 6.7, 6.1\n",
    "# Предполагая, что результаты измерений подчинены нормальному закону распределения вероятностей,\n",
    "# оценить истинное значение величины X при помощи доверительного интервала, покрывающего это\n",
    "# значение с доверительной вероятностью 0,95."
   ]
  },
  {
   "cell_type": "code",
   "execution_count": 30,
   "id": "031e735e",
   "metadata": {},
   "outputs": [
    {
     "data": {
      "text/plain": [
       "(6.590000000000001, 0.4508017549014448, 10)"
      ]
     },
     "execution_count": 30,
     "metadata": {},
     "output_type": "execute_result"
    }
   ],
   "source": [
    "data = np.array([6.9, 6.1, 6.2, 6.8, 7.5, 6.3, 6.4, 6.9, 6.7, 6.1])\n",
    "x = np.mean(data)\n",
    "z = 1.96\n",
    "s = np.std(data, ddof = 1)\n",
    "n = len(data)\n",
    "x, s, n"
   ]
  },
  {
   "cell_type": "code",
   "execution_count": 31,
   "id": "6a1ad2a6",
   "metadata": {},
   "outputs": [
    {
     "data": {
      "text/plain": [
       "(6.3105901775368505, 6.869409822463151)"
      ]
     },
     "execution_count": 31,
     "metadata": {},
     "output_type": "execute_result"
    }
   ],
   "source": [
    "a = x - z * (s/np.sqrt(n))\n",
    "b = x + z * (s/np.sqrt(n))\n",
    "a, b"
   ]
  },
  {
   "cell_type": "code",
   "execution_count": 33,
   "id": "f0c79219",
   "metadata": {},
   "outputs": [],
   "source": [
    "# Задача 3. Рост дочерей 175, 167, 154, 174, 178, 148, 160, 167, 169, 170\n",
    "# Рост матерей 178, 165, 165, 173, 168, 155, 160, 164, 178, 175\n",
    "# Используя эти данные построить 95% доверительный интервал для разности среднего роста родителей и детей."
   ]
  },
  {
   "cell_type": "code",
   "execution_count": 41,
   "id": "ab971d13",
   "metadata": {},
   "outputs": [],
   "source": [
    "import scipy.stats as stats"
   ]
  },
  {
   "cell_type": "code",
   "execution_count": 42,
   "id": "eb61ea01",
   "metadata": {},
   "outputs": [],
   "source": [
    "daughters = np.array([175, 167, 154, 174, 178, 148, 160, 167, 169, 170])\n",
    "mothers = np.array([178, 165, 165, 173, 168, 155, 160, 164, 178, 175])"
   ]
  },
  {
   "cell_type": "code",
   "execution_count": 43,
   "id": "6c681f67",
   "metadata": {},
   "outputs": [
    {
     "data": {
      "text/plain": [
       "(91.06666666666666, 60.10000000000001)"
      ]
     },
     "execution_count": 43,
     "metadata": {},
     "output_type": "execute_result"
    }
   ],
   "source": [
    "D1 = np.var(daughters, ddof = 1)\n",
    "D2 = np.var(mothers, ddof = 1)\n",
    "D1, D2"
   ]
  },
  {
   "cell_type": "code",
   "execution_count": 44,
   "id": "f97b9b09",
   "metadata": {},
   "outputs": [
    {
     "data": {
      "text/plain": [
       "75.58333333333334"
      ]
     },
     "execution_count": 44,
     "metadata": {},
     "output_type": "execute_result"
    }
   ],
   "source": [
    "D = 0.5 * (D1 + D2)\n",
    "D"
   ]
  },
  {
   "cell_type": "code",
   "execution_count": 45,
   "id": "811593eb",
   "metadata": {},
   "outputs": [
    {
     "data": {
      "text/plain": [
       "3.8880157750022915"
      ]
     },
     "execution_count": 45,
     "metadata": {},
     "output_type": "execute_result"
    }
   ],
   "source": [
    "n1 = len(daughters)\n",
    "n2 = len(mothers)\n",
    "S = np.sqrt(D/n1 + D/n2)\n",
    "S"
   ]
  },
  {
   "cell_type": "code",
   "execution_count": 46,
   "id": "1e5d8d32",
   "metadata": {},
   "outputs": [
    {
     "data": {
      "text/plain": [
       "-1.9000000000000057"
      ]
     },
     "execution_count": 46,
     "metadata": {},
     "output_type": "execute_result"
    }
   ],
   "source": [
    "x1 = np.mean(daughters)\n",
    "x2 = np.mean(mothers)\n",
    "d = x1 - x2\n",
    "d"
   ]
  },
  {
   "cell_type": "code",
   "execution_count": 50,
   "id": "7a33715e",
   "metadata": {},
   "outputs": [
    {
     "data": {
      "text/plain": [
       "2.2621571627409915"
      ]
     },
     "execution_count": 50,
     "metadata": {},
     "output_type": "execute_result"
    }
   ],
   "source": [
    "t = stats.t.ppf(0.975, n1 - 1)\n",
    "t"
   ]
  },
  {
   "cell_type": "code",
   "execution_count": 51,
   "id": "f28de8fd",
   "metadata": {},
   "outputs": [
    {
     "data": {
      "text/plain": [
       "(-10.695302734271406, 6.895302734271395)"
      ]
     },
     "execution_count": 51,
     "metadata": {},
     "output_type": "execute_result"
    }
   ],
   "source": [
    "a = d - t * S\n",
    "b = d + t * S\n",
    "a, b"
   ]
  }
 ],
 "metadata": {
  "kernelspec": {
   "display_name": "Python 3 (ipykernel)",
   "language": "python",
   "name": "python3"
  },
  "language_info": {
   "codemirror_mode": {
    "name": "ipython",
    "version": 3
   },
   "file_extension": ".py",
   "mimetype": "text/x-python",
   "name": "python",
   "nbconvert_exporter": "python",
   "pygments_lexer": "ipython3",
   "version": "3.9.13"
  }
 },
 "nbformat": 4,
 "nbformat_minor": 5
}
