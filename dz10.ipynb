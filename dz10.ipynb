{
 "cells": [
  {
   "cell_type": "code",
   "execution_count": 49,
   "id": "7a08a3ed",
   "metadata": {},
   "outputs": [],
   "source": [
    "# Задача. Провести дисперсионный анализ для определения того, есть ли различия среднего роста среди взрослых футболистов, \n",
    "# хоккеистов и штангистов. Даны значения роста в трех группах случайно выбранных спортсменов:\n",
    "# Футболисты: 173, 175, 180, 178, 177, 185, 183, 182.\n",
    "# Хоккеисты: 177, 179, 180, 188, 177, 172, 171, 184, 180.\n",
    "# Штангисты: 172, 173, 169, 177, 166, 180, 178, 177, 172, 166, 170."
   ]
  },
  {
   "cell_type": "code",
   "execution_count": 50,
   "id": "e4d83505",
   "metadata": {},
   "outputs": [],
   "source": [
    "import numpy as np\n",
    "from scipy import stats\n",
    "import matplotlib.pyplot as plt"
   ]
  },
  {
   "cell_type": "code",
   "execution_count": 51,
   "id": "4ec61087",
   "metadata": {},
   "outputs": [
    {
     "data": {
      "text/plain": [
       "0.1426250000000001"
      ]
     },
     "execution_count": 51,
     "metadata": {},
     "output_type": "execute_result"
    }
   ],
   "source": [
    "# Критерий Фишера\n",
    "# Истинный уровень статистической значимости:\n",
    "alpha = 1 - (1 - 0.05)**3\n",
    "alpha"
   ]
  },
  {
   "cell_type": "code",
   "execution_count": 52,
   "id": "3f954b0e",
   "metadata": {},
   "outputs": [],
   "source": [
    "football = np.array([173, 175, 180, 178, 177, 185, 183, 182])\n",
    "hockey = np.array([177, 179, 180, 188, 177, 172, 171, 184, 180])\n",
    "weightlifters = np.array([172, 173, 169, 177, 166, 180, 178, 177, 172, 166, 170])"
   ]
  },
  {
   "cell_type": "code",
   "execution_count": 53,
   "id": "f39eb3a4",
   "metadata": {},
   "outputs": [
    {
     "data": {
      "text/plain": [
       "28"
      ]
     },
     "execution_count": 53,
     "metadata": {},
     "output_type": "execute_result"
    }
   ],
   "source": [
    "k = 3\n",
    "n = football.shape[0] + hockey.shape[0] + weightlifters.shape[0]\n",
    "n"
   ]
  },
  {
   "cell_type": "code",
   "execution_count": 54,
   "id": "243b7632",
   "metadata": {},
   "outputs": [
    {
     "data": {
      "text/plain": [
       "(179.125, 178.66666666666666, 172.72727272727272)"
      ]
     },
     "execution_count": 54,
     "metadata": {},
     "output_type": "execute_result"
    }
   ],
   "source": [
    "ftbl_mean = football.mean()\n",
    "hcky_mean = hockey.mean()\n",
    "wtlt_mean = weightlifters.mean()\n",
    "ftbl_mean, hcky_mean, wtlt_mean"
   ]
  },
  {
   "cell_type": "code",
   "execution_count": 55,
   "id": "0b2806b3",
   "metadata": {},
   "outputs": [
    {
     "data": {
      "text/plain": [
       "176.46428571428572"
      ]
     },
     "execution_count": 55,
     "metadata": {},
     "output_type": "execute_result"
    }
   ],
   "source": [
    "total = np.array([173, 175, 180, 178, 177, 185, 183, 182, 177, 179, 180, 188, 177, 172, 171, 184, 180, 172, 173, 169, 177, 166, 180, 178, 177, 172, 166, 170])\n",
    "# total = np.array([football, hockey, weightlifters])\n",
    "total_mean = total.mean()\n",
    "total_mean"
   ]
  },
  {
   "cell_type": "code",
   "execution_count": 56,
   "id": "c55dfde7",
   "metadata": {},
   "outputs": [
    {
     "data": {
      "text/plain": [
       "253.9074675324678"
      ]
     },
     "execution_count": 56,
     "metadata": {},
     "output_type": "execute_result"
    }
   ],
   "source": [
    "S_f = np.sum((ftbl_mean - total_mean)**2) * football.shape[0] + np.sum((hcky_mean - total_mean)**2) * hockey.shape[0] + \\\n",
    "      np.sum((wtlt_mean - total_mean)**2) * weightlifters.shape[0]\n",
    "S_f"
   ]
  },
  {
   "cell_type": "code",
   "execution_count": 57,
   "id": "ba8d20b6",
   "metadata": {},
   "outputs": [
    {
     "data": {
      "text/plain": [
       "577.0568181818182"
      ]
     },
     "execution_count": 57,
     "metadata": {},
     "output_type": "execute_result"
    }
   ],
   "source": [
    "S_ost = np.sum((football - ftbl_mean)**2) + np.sum((hockey - hcky_mean)**2) + np.sum((weightlifters - wtlt_mean)**2)\n",
    "S_ost"
   ]
  },
  {
   "cell_type": "code",
   "execution_count": 58,
   "id": "fb21d53b",
   "metadata": {},
   "outputs": [
    {
     "data": {
      "text/plain": [
       "(83.63582251082259, 23.08227272727273)"
      ]
     },
     "execution_count": 58,
     "metadata": {},
     "output_type": "execute_result"
    }
   ],
   "source": [
    "D_f = S_f / k - 1\n",
    "D_ost = S_ost / (n - k)\n",
    "D_f, D_ost"
   ]
  },
  {
   "cell_type": "code",
   "execution_count": 59,
   "id": "2eff5f81",
   "metadata": {},
   "outputs": [
    {
     "data": {
      "text/plain": [
       "3.6233790103347645"
      ]
     },
     "execution_count": 59,
     "metadata": {},
     "output_type": "execute_result"
    }
   ],
   "source": [
    "F_n = D_f / D_ost\n",
    "F_n"
   ]
  },
  {
   "cell_type": "code",
   "execution_count": 61,
   "id": "f1e076ab",
   "metadata": {},
   "outputs": [],
   "source": [
    "# k1 = 3 - 1 = 2\n",
    "# k2 = 28 - 3 = 25\n",
    "F_cr = 3.38\n",
    "# F_cr < F_n => Отклоняем H0: различия в среднем росте есть."
   ]
  },
  {
   "cell_type": "code",
   "execution_count": 62,
   "id": "266836e1",
   "metadata": {},
   "outputs": [
    {
     "data": {
      "text/plain": [
       "F_onewayResult(statistic=5.500053450812596, pvalue=0.010482206918698694)"
      ]
     },
     "execution_count": 62,
     "metadata": {},
     "output_type": "execute_result"
    }
   ],
   "source": [
    "# Проверка\n",
    "f = stats.f_oneway(football, hockey, weightlifters)\n",
    "f"
   ]
  },
  {
   "cell_type": "code",
   "execution_count": 63,
   "id": "8f6109f5",
   "metadata": {},
   "outputs": [],
   "source": [
    "# p-value < alpha => различия есть"
   ]
  },
  {
   "cell_type": "code",
   "execution_count": 64,
   "id": "dbfe51de",
   "metadata": {},
   "outputs": [],
   "source": [
    "# Post hoc test Tukey\n",
    "from statsmodels.stats.multicomp import pairwise_tukeyhsd\n",
    "import pandas as pd"
   ]
  },
  {
   "cell_type": "code",
   "execution_count": 65,
   "id": "aebdd5a6",
   "metadata": {},
   "outputs": [
    {
     "name": "stdout",
     "output_type": "stream",
     "text": [
      "     Multiple Comparison of Means - Tukey HSD, FWER=0.05      \n",
      "==============================================================\n",
      " group1      group2    meandiff p-adj   lower    upper  reject\n",
      "--------------------------------------------------------------\n",
      "football        hockey  -0.4583  0.979  -6.2732  5.3566  False\n",
      "football weightlifters  -6.3977 0.0219 -11.9583 -0.8372   True\n",
      "  hockey weightlifters  -5.9394 0.0284 -11.3181 -0.5607   True\n",
      "--------------------------------------------------------------\n"
     ]
    }
   ],
   "source": [
    "df = pd.DataFrame({'height': [173, 175, 180, 178, 177, 185, 183, 182,\n",
    "                             177, 179, 180, 188, 177, 172, 171, 184, 180,\n",
    "                             172, 173, 169, 177, 166, 180, 178, 177, 172, 166, 170],\n",
    "                  'group': np.repeat(['football', 'hockey', 'weightlifters'],[8,9,11])})\n",
    "tukey = pairwise_tukeyhsd(endog = df['height'],\n",
    "                         groups = df['group'],\n",
    "                         alpha = 0.05)\n",
    "print(tukey)"
   ]
  },
  {
   "cell_type": "code",
   "execution_count": 66,
   "id": "62214781",
   "metadata": {},
   "outputs": [],
   "source": [
    "# Отклоняем H0 во второй и третьей строке => есть различия между футболистами и штангистами, и между хоккеистами и штангистами."
   ]
  }
 ],
 "metadata": {
  "kernelspec": {
   "display_name": "Python 3 (ipykernel)",
   "language": "python",
   "name": "python3"
  },
  "language_info": {
   "codemirror_mode": {
    "name": "ipython",
    "version": 3
   },
   "file_extension": ".py",
   "mimetype": "text/x-python",
   "name": "python",
   "nbconvert_exporter": "python",
   "pygments_lexer": "ipython3",
   "version": "3.9.13"
  }
 },
 "nbformat": 4,
 "nbformat_minor": 5
}
