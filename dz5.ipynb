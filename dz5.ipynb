{
 "cells": [
  {
   "cell_type": "code",
   "execution_count": 5,
   "id": "c3a769c4",
   "metadata": {},
   "outputs": [],
   "source": [
    "import numpy as np\n",
    "import scipy.stats as stats"
   ]
  },
  {
   "cell_type": "code",
   "execution_count": null,
   "id": "75169640",
   "metadata": {},
   "outputs": [],
   "source": [
    "# Задача 1. Z-критерий используется, когда известно СКО или дисперсия генеральной совокупности. Если СКО или дисперсия\n",
    "# генеральной совокупности не известны, то используется критерий Стьюдента, а СКО высчитывается по выборке."
   ]
  },
  {
   "cell_type": "code",
   "execution_count": 2,
   "id": "2c629f76",
   "metadata": {},
   "outputs": [],
   "source": [
    "# Задача 2. Утверждается, что шарики для подшипников, изготовленные автоматическим станком, имеют средний диаметр 17 мм.\n",
    "# Используя односторонний критерий с α = 0,05, проверить эту гипотезу, если в выборке из n = 100 шариков средний диаметр\n",
    "# оказался равным 17.5 мм, а дисперсия известна и равна 4 кв. мм."
   ]
  },
  {
   "cell_type": "code",
   "execution_count": 18,
   "id": "6a0113e4",
   "metadata": {},
   "outputs": [
    {
     "data": {
      "text/plain": [
       "2.5"
      ]
     },
     "execution_count": 18,
     "metadata": {},
     "output_type": "execute_result"
    }
   ],
   "source": [
    "# 1) H0: μ = 17\n",
    "#    H1: μ > 17.5\n",
    "\n",
    "# 2)\n",
    "alpha = 0.05\n",
    "m = 17\n",
    "x_mean = 17.5\n",
    "x_v = 4\n",
    "x_std = np.sqrt(x_v)\n",
    "n = 100\n",
    "\n",
    "# 3) Выбираем Z-критерий \n",
    "# 4) Расчёт:\n",
    "\n",
    "z_emp = (x_mean - m)/(x_std/np.sqrt(n))\n",
    "z_emp"
   ]
  },
  {
   "cell_type": "code",
   "execution_count": 20,
   "id": "9020cbf4",
   "metadata": {},
   "outputs": [
    {
     "data": {
      "text/plain": [
       "1.6448536269514722"
      ]
     },
     "execution_count": 20,
     "metadata": {},
     "output_type": "execute_result"
    }
   ],
   "source": [
    "# 5) Находим критическое значение:\n",
    "\n",
    "zt = stats.norm.ppf(1 - alpha)\n",
    "zt"
   ]
  },
  {
   "cell_type": "code",
   "execution_count": 21,
   "id": "abdadcf4",
   "metadata": {},
   "outputs": [],
   "source": [
    "# 6) Вывод: так как наблюдаемое значение попадает в критическую область, нулевая гипотеза отвергается. Средний диаметр шариков \n",
    "# для подшипников более 17 мм."
   ]
  },
  {
   "cell_type": "code",
   "execution_count": 23,
   "id": "44df169c",
   "metadata": {},
   "outputs": [],
   "source": [
    "# Задача 3. Продавец утверждает, что средний вес пачки печенья составляет 200 г.\n",
    "# Из партии извлечена выборка из 10 пачек. Вес каждой пачки составляет: 202, 203, 199, 197, 195, 201, 200, 204, 194, 190.\n",
    "# Известно, что их веса распределены нормально. Верно ли утверждение продавца, если учитывать, что доверительная вероятность\n",
    "# равна 99%? (Провести двусторонний тест.)"
   ]
  },
  {
   "cell_type": "code",
   "execution_count": 29,
   "id": "034b9c57",
   "metadata": {},
   "outputs": [
    {
     "data": {
      "text/plain": [
       "198.5"
      ]
     },
     "execution_count": 29,
     "metadata": {},
     "output_type": "execute_result"
    }
   ],
   "source": [
    "# 1) H0: μ = 200\n",
    "#    H1: μ != 200\n",
    "\n",
    "# 2)\n",
    "alpha = 0.01\n",
    "x = np.array([202, 203, 199, 197, 195, 201, 200, 204, 194, 190])\n",
    "m = 200\n",
    "x_mean = np.mean(x)\n",
    "x_mean "
   ]
  },
  {
   "cell_type": "code",
   "execution_count": 42,
   "id": "b1b1289e",
   "metadata": {},
   "outputs": [
    {
     "data": {
      "text/plain": [
       "-1.0651074037450896"
      ]
     },
     "execution_count": 42,
     "metadata": {},
     "output_type": "execute_result"
    }
   ],
   "source": [
    "n = 10\n",
    "x_v = np.var(x, ddof = 1)\n",
    "\n",
    "# 3) Выбираем t-критерий \n",
    "# 4) Расчёт наблюдаемого значения:\n",
    "\n",
    "t_emp = (x_mean - m)/(np.sqrt(x_v)/np.sqrt(n))\n",
    "t_emp"
   ]
  },
  {
   "cell_type": "code",
   "execution_count": 43,
   "id": "5f71b1bc",
   "metadata": {},
   "outputs": [
    {
     "data": {
      "text/plain": [
       "(-2.8784404727135864, 2.878440472713585)"
      ]
     },
     "execution_count": 43,
     "metadata": {},
     "output_type": "execute_result"
    }
   ],
   "source": [
    "# 5) Расчёт критического значения:\n",
    "t1 = stats.t.ppf(alpha/2, df = 2*(n-1))\n",
    "t2 = stats.t.ppf(1 - alpha/2, df = 2*(n-1))\n",
    "t1,t2"
   ]
  },
  {
   "cell_type": "code",
   "execution_count": 44,
   "id": "ea3241b4",
   "metadata": {},
   "outputs": [],
   "source": [
    "# 6) Вывод: наблюдаемое значение не находится в критической области, следовательно, нулевая гипотеза верна. Средний вес пачки\n",
    "# печенья составляет 200 гр."
   ]
  },
  {
   "cell_type": "code",
   "execution_count": 45,
   "id": "bff8e8e6",
   "metadata": {},
   "outputs": [],
   "source": [
    "# Задача 4. Есть ли статистически значимые различия в росте дочерей?\n",
    "# Рост матерей 172, 177, 158, 170, 178, 175, 164, 160, 169, 165\n",
    "# Рост взрослых дочерей: 173, 175, 162, 174, 175, 168, 155, 170, 160, 163"
   ]
  },
  {
   "cell_type": "code",
   "execution_count": 51,
   "id": "5b45a200",
   "metadata": {},
   "outputs": [
    {
     "data": {
      "text/plain": [
       "Ttest_relResult(statistic=0.6648478531431979, pvalue=0.5228168632983574)"
      ]
     },
     "execution_count": 51,
     "metadata": {},
     "output_type": "execute_result"
    }
   ],
   "source": [
    "# 1) H0: μ1 = μ2\n",
    "#    H1: μ1 != μ2\n",
    "\n",
    "# 2) α = 0.01\n",
    "# 3) Расчёт:\n",
    "\n",
    "mothers = np.array([172, 177, 158, 170, 178, 175, 164, 160, 169, 165])\n",
    "daughters = np.array([173, 175, 162, 174, 175, 168, 155, 170, 160, 163])\n",
    "\n",
    "stats.ttest_rel(mothers,daughters)"
   ]
  },
  {
   "cell_type": "code",
   "execution_count": 52,
   "id": "2ae6817f",
   "metadata": {},
   "outputs": [],
   "source": [
    "# 4) Вывод: так как p-value > α, то нулевая гипотеза принимается. Статистически значимых различий в росте матерей и дочерей нет."
   ]
  }
 ],
 "metadata": {
  "kernelspec": {
   "display_name": "Python 3 (ipykernel)",
   "language": "python",
   "name": "python3"
  },
  "language_info": {
   "codemirror_mode": {
    "name": "ipython",
    "version": 3
   },
   "file_extension": ".py",
   "mimetype": "text/x-python",
   "name": "python",
   "nbconvert_exporter": "python",
   "pygments_lexer": "ipython3",
   "version": "3.9.13"
  }
 },
 "nbformat": 4,
 "nbformat_minor": 5
}
