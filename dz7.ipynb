{
 "cells": [
  {
   "cell_type": "code",
   "execution_count": 2,
   "id": "885df6c5",
   "metadata": {},
   "outputs": [],
   "source": [
    "# Выберете тест и проверьте, есть ли различия между выборками:"
   ]
  },
  {
   "cell_type": "code",
   "execution_count": 9,
   "id": "eb0c49cb",
   "metadata": {},
   "outputs": [],
   "source": [
    "import numpy as np\n",
    "import scipy.stats as stats\n",
    "# Уровень значимости везде равен 5%."
   ]
  },
  {
   "cell_type": "code",
   "execution_count": 3,
   "id": "0412d2de",
   "metadata": {},
   "outputs": [],
   "source": [
    "# Задача 1. Даны две независимые выборки. Не соблюдается условие нормальности.\n",
    "# x1: 380, 420, 290\n",
    "# y1: 140, 360, 200, 900\n",
    "# Сделайте вывод по результатам, полученным с помощью функции, имеются ли статистические различия между группами?"
   ]
  },
  {
   "cell_type": "code",
   "execution_count": 11,
   "id": "32bf29d2",
   "metadata": {},
   "outputs": [
    {
     "data": {
      "text/plain": [
       "MannwhitneyuResult(statistic=8.0, pvalue=0.6285714285714286)"
      ]
     },
     "execution_count": 11,
     "metadata": {},
     "output_type": "execute_result"
    }
   ],
   "source": [
    "# Критерий Манна-Уитни\n",
    "x1 = np.array([380, 420, 290])\n",
    "y1 = np.array([140, 360, 200, 900])\n",
    "stats.mannwhitneyu(x1,y1)"
   ]
  },
  {
   "cell_type": "code",
   "execution_count": null,
   "id": "83b482ca",
   "metadata": {},
   "outputs": [],
   "source": [
    "# Различий не обнаружено"
   ]
  },
  {
   "cell_type": "code",
   "execution_count": 4,
   "id": "b8762632",
   "metadata": {},
   "outputs": [],
   "source": [
    "# Задача 2. Исследовалось влияние препарата на уровень давления пациентов. Сначала измерялось давление до приема препарата, \n",
    "# потом через 10 минут и через 30 минут. Есть ли статистически значимые различия между измерениями давления? В выборках не \n",
    "# соблюдается условие нормальности.\n",
    "# 1е измерение до приема препарата: 150, 160, 165, 145, 155\n",
    "# 2е измерение через 10 минут: 140, 155, 150, 130, 135\n",
    "# 3е измерение через 30 минут: 130, 130, 120, 130, 125"
   ]
  },
  {
   "cell_type": "code",
   "execution_count": 12,
   "id": "c0497b4f",
   "metadata": {},
   "outputs": [
    {
     "data": {
      "text/plain": [
       "FriedmanchisquareResult(statistic=9.578947368421062, pvalue=0.00831683351100441)"
      ]
     },
     "execution_count": 12,
     "metadata": {},
     "output_type": "execute_result"
    }
   ],
   "source": [
    "# Критерий Фридмана\n",
    "before = np.array([150, 160, 165, 145, 155])\n",
    "after_10min = np.array([140, 155, 150, 130, 135])\n",
    "after_30min = np.array([130, 130, 120, 130, 125])\n",
    "stats.friedmanchisquare(before, after_10min, after_30min)"
   ]
  },
  {
   "cell_type": "code",
   "execution_count": null,
   "id": "61f17a70",
   "metadata": {},
   "outputs": [],
   "source": [
    "# Различия есть"
   ]
  },
  {
   "cell_type": "code",
   "execution_count": 5,
   "id": "3dbf1210",
   "metadata": {},
   "outputs": [],
   "source": [
    "# Задача 3. Сравните 1 и 2 е измерения, предполагая, что 3го измерения через 30 минут не было. Есть ли статистически значимые \n",
    "# различия между измерениями давления?"
   ]
  },
  {
   "cell_type": "code",
   "execution_count": 13,
   "id": "45017e33",
   "metadata": {},
   "outputs": [
    {
     "data": {
      "text/plain": [
       "WilcoxonResult(statistic=0.0, pvalue=0.0625)"
      ]
     },
     "execution_count": 13,
     "metadata": {},
     "output_type": "execute_result"
    }
   ],
   "source": [
    "# Критерий Уилкоксона\n",
    "before = np.array([150, 160, 165, 145, 155])\n",
    "after_10min = np.array([140, 155, 150, 130, 135])\n",
    "stats.wilcoxon(before, after_10min)"
   ]
  },
  {
   "cell_type": "code",
   "execution_count": null,
   "id": "975bf9df",
   "metadata": {},
   "outputs": [],
   "source": [
    "# Различий не обнаружено"
   ]
  },
  {
   "cell_type": "code",
   "execution_count": 6,
   "id": "8be5e29d",
   "metadata": {},
   "outputs": [],
   "source": [
    "# Задача 4. Даны 3 группы учеников плавания. Не соблюдается условие нормальности.\n",
    "# В 1 группе время на дистанцию 50 м составляют: 56, 60, 62, 55, 71, 67, 59, 58, 64, 67\n",
    "# Вторая группа : 57, 58, 69, 48, 72, 70, 68, 71, 50, 53\n",
    "# Третья группа: 57, 67, 49, 48, 47, 55, 66, 51, 54\n",
    "# Есть ли статистически значимые различия между группами?"
   ]
  },
  {
   "cell_type": "code",
   "execution_count": 14,
   "id": "198f4e0e",
   "metadata": {},
   "outputs": [
    {
     "data": {
      "text/plain": [
       "KruskalResult(statistic=5.465564058257224, pvalue=0.0650380998590494)"
      ]
     },
     "execution_count": 14,
     "metadata": {},
     "output_type": "execute_result"
    }
   ],
   "source": [
    "# Критерий Краскала-Уоллеса\n",
    "gr1 = np.array([56, 60, 62, 55, 71, 67, 59, 58, 64, 67])\n",
    "gr2 = np.array([57, 58, 69, 48, 72, 70, 68, 71, 50, 53])\n",
    "gr3 = np.array([57, 67, 49, 48, 47, 55, 66, 51, 54])\n",
    "stats.kruskal(gr1,gr2,gr3)"
   ]
  },
  {
   "cell_type": "code",
   "execution_count": null,
   "id": "c72702e7",
   "metadata": {},
   "outputs": [],
   "source": [
    "# Различий не обнаружено"
   ]
  },
  {
   "cell_type": "code",
   "execution_count": 15,
   "id": "e26d05d0",
   "metadata": {},
   "outputs": [],
   "source": [
    "# Задача 5. Заявляется, что партия изготавливается со средним арифметическим 2,5 см. Проверить данную гипотезу, если известно, \n",
    "# что размеры изделий подчинены нормальному закону распределения. Объем выборки 10, уровень статистической значимости 5%.\n",
    "# 2.51, 2.35, 2.74, 2.56, 2.40, 2.36, 2.65, 2.7, 2.67, 2.34"
   ]
  },
  {
   "cell_type": "code",
   "execution_count": 17,
   "id": "a55a115b",
   "metadata": {},
   "outputs": [
    {
     "data": {
      "text/plain": [
       "2.5279999999999996"
      ]
     },
     "execution_count": 17,
     "metadata": {},
     "output_type": "execute_result"
    }
   ],
   "source": [
    "# H0: m = 2.5\n",
    "# H1: m != 2.5\n",
    "m = 2.5\n",
    "\n",
    "# a = 0.05\n",
    "\n",
    "# Критерий Стьюдента\n",
    "\n",
    "x = np.array([2.51, 2.35, 2.74, 2.56, 2.40, 2.36, 2.65, 2.7, 2.67, 2.34])\n",
    "X = x.mean()\n",
    "X"
   ]
  },
  {
   "cell_type": "code",
   "execution_count": 18,
   "id": "6fc47c65",
   "metadata": {},
   "outputs": [
    {
     "data": {
      "text/plain": [
       "0.1572542173961923"
      ]
     },
     "execution_count": 18,
     "metadata": {},
     "output_type": "execute_result"
    }
   ],
   "source": [
    "s = x.std(ddof = 1)\n",
    "s"
   ]
  },
  {
   "cell_type": "code",
   "execution_count": 19,
   "id": "d83b9e87",
   "metadata": {},
   "outputs": [
    {
     "data": {
      "text/plain": [
       "10"
      ]
     },
     "execution_count": 19,
     "metadata": {},
     "output_type": "execute_result"
    }
   ],
   "source": [
    "n = x.shape[0]\n",
    "n"
   ]
  },
  {
   "cell_type": "code",
   "execution_count": 22,
   "id": "19f35e81",
   "metadata": {},
   "outputs": [
    {
     "data": {
      "text/plain": [
       "0.5630613661802959"
      ]
     },
     "execution_count": 22,
     "metadata": {},
     "output_type": "execute_result"
    }
   ],
   "source": [
    "t = (X - m)/(s/np.sqrt(n))\n",
    "t"
   ]
  },
  {
   "cell_type": "code",
   "execution_count": 23,
   "id": "8cc78b59",
   "metadata": {},
   "outputs": [],
   "source": [
    "tтаб = 1.8"
   ]
  },
  {
   "cell_type": "code",
   "execution_count": 24,
   "id": "8125f98d",
   "metadata": {},
   "outputs": [],
   "source": [
    "# t < tтаб => гипотеза верна"
   ]
  },
  {
   "cell_type": "code",
   "execution_count": 25,
   "id": "12a5278e",
   "metadata": {},
   "outputs": [
    {
     "data": {
      "text/plain": [
       "Ttest_1sampResult(statistic=0.5630613661802959, pvalue=0.5871439993940628)"
      ]
     },
     "execution_count": 25,
     "metadata": {},
     "output_type": "execute_result"
    }
   ],
   "source": [
    "# Проверка\n",
    "stats.ttest_1samp(x, 2.5)"
   ]
  }
 ],
 "metadata": {
  "kernelspec": {
   "display_name": "Python 3 (ipykernel)",
   "language": "python",
   "name": "python3"
  },
  "language_info": {
   "codemirror_mode": {
    "name": "ipython",
    "version": 3
   },
   "file_extension": ".py",
   "mimetype": "text/x-python",
   "name": "python",
   "nbconvert_exporter": "python",
   "pygments_lexer": "ipython3",
   "version": "3.9.13"
  }
 },
 "nbformat": 4,
 "nbformat_minor": 5
}
