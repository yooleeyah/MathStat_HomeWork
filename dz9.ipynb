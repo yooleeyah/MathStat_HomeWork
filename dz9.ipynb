{
 "cells": [
  {
   "cell_type": "code",
   "execution_count": 79,
   "id": "81ded8d9",
   "metadata": {},
   "outputs": [],
   "source": [
    "# Задача 1. Даны значения величины заработной платы заемщиков банка (zp) и значения их поведенческого кредитного скоринга (ks):\n",
    "# zp = [35, 45, 190, 200, 40, 70, 54, 150, 120, 110],\n",
    "# ks = [401, 574, 874, 919, 459, 739, 653, 902, 746, 832].\n",
    "# Используя математические операции, посчитать коэффициенты линейной регрессии, приняв за X заработную плату (то есть, zp - \n",
    "# признак), а за y - значения скорингового балла (то есть, ks - целевая переменная). Произвести расчет как с использованием \n",
    "# intercept, так и без.\n",
    "import numpy as np"
   ]
  },
  {
   "cell_type": "code",
   "execution_count": 80,
   "id": "8b2f99a5",
   "metadata": {},
   "outputs": [],
   "source": [
    "# с помощью формул \n",
    "zp = np.array([35, 45, 190, 200, 40, 70, 54, 150, 120, 110])\n",
    "ks = np.array([401, 574, 874, 919, 459, 739, 653, 902, 746, 832])"
   ]
  },
  {
   "cell_type": "code",
   "execution_count": 81,
   "id": "a6a6d412",
   "metadata": {},
   "outputs": [],
   "source": [
    "n = zp.shape[0]"
   ]
  },
  {
   "cell_type": "code",
   "execution_count": 82,
   "id": "ff6e2d96",
   "metadata": {},
   "outputs": [
    {
     "data": {
      "text/plain": [
       "2.6205388824027653"
      ]
     },
     "execution_count": 82,
     "metadata": {},
     "output_type": "execute_result"
    }
   ],
   "source": [
    "b1 = (n*np.sum(zp*ks) - zp.sum()*ks.sum()) / (n*np.sum(zp**2) - np.sum(zp)**2)\n",
    "b1"
   ]
  },
  {
   "cell_type": "code",
   "execution_count": 83,
   "id": "7b894b79",
   "metadata": {},
   "outputs": [
    {
     "data": {
      "text/plain": [
       "444.17735732435955"
      ]
     },
     "execution_count": 83,
     "metadata": {},
     "output_type": "execute_result"
    }
   ],
   "source": [
    "b0 = ks.mean() - b1*zp.mean()\n",
    "b0"
   ]
  },
  {
   "cell_type": "code",
   "execution_count": 84,
   "id": "4d7a5b79",
   "metadata": {},
   "outputs": [],
   "source": [
    "# ks = 444.18 + 2.62*zp"
   ]
  },
  {
   "cell_type": "code",
   "execution_count": 85,
   "id": "5ed99381",
   "metadata": {},
   "outputs": [],
   "source": [
    "# Проверка\n",
    "from sklearn.linear_model import LinearRegression"
   ]
  },
  {
   "cell_type": "code",
   "execution_count": 86,
   "id": "149ee0eb",
   "metadata": {},
   "outputs": [],
   "source": [
    "model = LinearRegression()"
   ]
  },
  {
   "cell_type": "code",
   "execution_count": 87,
   "id": "b928bee5",
   "metadata": {},
   "outputs": [
    {
     "data": {
      "text/plain": [
       "array([[ 35],\n",
       "       [ 45],\n",
       "       [190],\n",
       "       [200],\n",
       "       [ 40],\n",
       "       [ 70],\n",
       "       [ 54],\n",
       "       [150],\n",
       "       [120],\n",
       "       [110]])"
      ]
     },
     "execution_count": 87,
     "metadata": {},
     "output_type": "execute_result"
    }
   ],
   "source": [
    "zp = zp.reshape(-1,1)\n",
    "zp"
   ]
  },
  {
   "cell_type": "code",
   "execution_count": 88,
   "id": "66ea9626",
   "metadata": {},
   "outputs": [
    {
     "name": "stdout",
     "output_type": "stream",
     "text": [
      "444.1773573243596\n",
      "[2.62053888]\n"
     ]
    }
   ],
   "source": [
    "regres = model.fit(zp,ks)\n",
    "print(regres.intercept_)\n",
    "print(regres.coef_)"
   ]
  },
  {
   "cell_type": "code",
   "execution_count": 106,
   "id": "b18c0e6c",
   "metadata": {},
   "outputs": [],
   "source": [
    "# матричный метод для y = b1 * x\n",
    "zp = np.array([35, 45, 190, 200, 40, 70, 54, 150, 120, 110])\n",
    "ks = np.array([401, 574, 874, 919, 459, 739, 653, 902, 746, 832])"
   ]
  },
  {
   "cell_type": "code",
   "execution_count": 109,
   "id": "57f32138",
   "metadata": {},
   "outputs": [
    {
     "data": {
      "text/plain": [
       "array([[ 35],\n",
       "       [ 45],\n",
       "       [190],\n",
       "       [200],\n",
       "       [ 40],\n",
       "       [ 70],\n",
       "       [ 54],\n",
       "       [150],\n",
       "       [120],\n",
       "       [110]])"
      ]
     },
     "execution_count": 109,
     "metadata": {},
     "output_type": "execute_result"
    }
   ],
   "source": [
    "x = zp.reshape((n,1))\n",
    "x"
   ]
  },
  {
   "cell_type": "code",
   "execution_count": 111,
   "id": "d2ff5614",
   "metadata": {},
   "outputs": [
    {
     "data": {
      "text/plain": [
       "array([[401],\n",
       "       [574],\n",
       "       [874],\n",
       "       [919],\n",
       "       [459],\n",
       "       [739],\n",
       "       [653],\n",
       "       [902],\n",
       "       [746],\n",
       "       [832]])"
      ]
     },
     "execution_count": 111,
     "metadata": {},
     "output_type": "execute_result"
    }
   ],
   "source": [
    "y = ks.reshape((n,1))\n",
    "y"
   ]
  },
  {
   "cell_type": "code",
   "execution_count": 114,
   "id": "e50a68a9",
   "metadata": {},
   "outputs": [
    {
     "data": {
      "text/plain": [
       "array([[5.88982042]])"
      ]
     },
     "execution_count": 114,
     "metadata": {},
     "output_type": "execute_result"
    }
   ],
   "source": [
    "B = np.dot(np.linalg.inv(np.dot(x.T, x)), x.T@y)\n",
    "B"
   ]
  },
  {
   "cell_type": "code",
   "execution_count": null,
   "id": "d8b3b074",
   "metadata": {},
   "outputs": [],
   "source": [
    "# b1 = 5.89\n",
    "# ks = 5.89 * zp"
   ]
  },
  {
   "cell_type": "code",
   "execution_count": 100,
   "id": "a5d551d8",
   "metadata": {},
   "outputs": [],
   "source": [
    "# Задача 2. Посчитать коэффициент линейной регрессии при заработной плате (zp), используя градиентный спуск (без intercept).\n",
    "def mse_(B1, y = ks, x = zp, n = 10):\n",
    "    return np.sum((B1*x - y)**2)/n"
   ]
  },
  {
   "cell_type": "code",
   "execution_count": 101,
   "id": "22f3dc4b",
   "metadata": {},
   "outputs": [],
   "source": [
    "zp = np.array([35, 45, 190, 200, 40, 70, 54, 150, 120, 110])\n",
    "ks = np.array([401, 574, 874, 919, 459, 739, 653, 902, 746, 832])\n",
    "alpha = 1e-6\n",
    "B1 = 0.1"
   ]
  },
  {
   "cell_type": "code",
   "execution_count": 102,
   "id": "61da98a7",
   "metadata": {},
   "outputs": [
    {
     "name": "stdout",
     "output_type": "stream",
     "text": [
      "B1 = 0.25952808\n",
      "B1 = 0.414660650906144\n",
      "B1 = 0.5655188230595969\n",
      "B1 = 0.7122203698240712\n",
      "B1 = 0.8548798195302346\n",
      "B1 = 0.9936085448867542\n",
      "B1 = 1.1285148499277806\n",
      "B1 = 1.2597040545647504\n",
      "B1 = 1.387278576808517\n",
      "B1 = 1.5113380127259965\n"
     ]
    }
   ],
   "source": [
    "for i in range(10):\n",
    "    B1 -= alpha * (2/n) * np.sum((B1*zp - ks) * zp)\n",
    "    print('B1 = {}'.format(B1))"
   ]
  },
  {
   "cell_type": "code",
   "execution_count": 103,
   "id": "17da68f3",
   "metadata": {},
   "outputs": [
    {
     "name": "stdout",
     "output_type": "stream",
     "text": [
      "Iteration = 0, B1 = 1.6319792141937546, mse = 306275.7568040035\n",
      "Iteration = 500, B1 = 5.889816771625289, mse = 56516.8584159028\n",
      "Iteration = 1000, B1 = 5.8898204201295625, mse = 56516.85841571941\n",
      "Iteration = 1500, B1 = 5.889820420132673, mse = 56516.85841571943\n",
      "Iteration = 2000, B1 = 5.889820420132673, mse = 56516.85841571943\n",
      "Iteration = 2500, B1 = 5.889820420132673, mse = 56516.85841571943\n"
     ]
    }
   ],
   "source": [
    "for i in range(3000):\n",
    "    B1 -= alpha * (2/n) * np.sum((B1*zp - ks) * zp)\n",
    "    if i % 500 == 0:\n",
    "        print('Iteration = {i}, B1 = {B1}, mse = {mse}'.format(i = i, B1 = B1, mse = mse_(B1)))"
   ]
  },
  {
   "cell_type": "code",
   "execution_count": 104,
   "id": "cb672487",
   "metadata": {},
   "outputs": [],
   "source": [
    "# B1 = 5.89\n",
    "# ks = 5.89 * zp"
   ]
  },
  {
   "cell_type": "code",
   "execution_count": 105,
   "id": "9d12a689",
   "metadata": {},
   "outputs": [],
   "source": [
    "# Задача 3 (Дополнительно). Произвести вычисления как в пункте 2, но с вычислением intercept. Учесть, что изменение коэффициентов\n",
    "# должно производиться на каждом шаге одновременно (то есть изменение одного коэффициента не должно влиять на изменение другого\n",
    "# во время одной итерации).\n",
    "\n",
    "# Я не знаю как(("
   ]
  }
 ],
 "metadata": {
  "kernelspec": {
   "display_name": "Python 3 (ipykernel)",
   "language": "python",
   "name": "python3"
  },
  "language_info": {
   "codemirror_mode": {
    "name": "ipython",
    "version": 3
   },
   "file_extension": ".py",
   "mimetype": "text/x-python",
   "name": "python",
   "nbconvert_exporter": "python",
   "pygments_lexer": "ipython3",
   "version": "3.9.13"
  }
 },
 "nbformat": 4,
 "nbformat_minor": 5
}
